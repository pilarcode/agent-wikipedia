{
 "cells": [
  {
   "cell_type": "code",
   "execution_count": 1,
   "metadata": {},
   "outputs": [],
   "source": [
    "import os\n",
    "from typing import List, Tuple\n",
    "\n",
    "from langchain.agents import AgentExecutor\n",
    "from langchain.callbacks.manager import CallbackManagerForRetrieverRun\n",
    "from langchain.tools.retriever import create_retriever_tool\n",
    "\n",
    "from langchain_community.utilities.arxiv import ArxivAPIWrapper\n",
    "from langchain_core.documents import Document\n",
    "from langchain_core.messages import AIMessage, HumanMessage\n",
    "from langchain_core.prompts import ChatPromptTemplate, MessagesPlaceholder\n",
    "from langchain_core.pydantic_v1 import BaseModel, Field\n",
    "from langchain_core.retrievers import BaseRetriever\n",
    "\n",
    "from langchain_community.embeddings import BedrockEmbeddings\n",
    "from langchain_aws import ChatBedrock\n",
    "\n",
    "from langchain.memory import ChatMessageHistory\n"
   ]
  },
  {
   "cell_type": "code",
   "execution_count": 2,
   "metadata": {},
   "outputs": [],
   "source": [
    "from dotenv import load_dotenv\n",
    "import boto3\n",
    "\n",
    "# Load env variables\n",
    "_ = load_dotenv()"
   ]
  },
  {
   "cell_type": "markdown",
   "metadata": {},
   "source": [
    "* LLM and Embedding model"
   ]
  },
  {
   "cell_type": "code",
   "execution_count": 3,
   "metadata": {},
   "outputs": [],
   "source": [
    "AWS_LLM_REGION_NAME = \"us-east-1\"\n",
    "AWS_LLM_MODEL_ID= \"anthropic.claude-3-sonnet-20240229-v1:0\"\n",
    "AWS_EMBEDDING_MODEL_ID = \"amazon.titan-embed-text-v1\"\n",
    "\n",
    "llm = ChatBedrock(\n",
    "    model_id=AWS_LLM_MODEL_ID,\n",
    "    model_kwargs={\"temperature\": 0.0},\n",
    "    region_name=AWS_LLM_REGION_NAME,\n",
    "\n",
    ")\n",
    "\n",
    "embedder = BedrockEmbeddings(model_id=AWS_EMBEDDING_MODEL_ID,region_name=AWS_LLM_REGION_NAME)"
   ]
  },
  {
   "cell_type": "markdown",
   "metadata": {},
   "source": [
    "* ArxivRetriever"
   ]
  },
  {
   "cell_type": "code",
   "execution_count": 4,
   "metadata": {},
   "outputs": [],
   "source": [
    "class ArxivRetriever(BaseRetriever, ArxivAPIWrapper):\n",
    "    \"\"\"`Arxiv` retriever.\n",
    "\n",
    "    It wraps load() to get_relevant_documents().\n",
    "    It uses all ArxivAPIWrapper arguments without any change.\n",
    "    \"\"\"\n",
    "\n",
    "    get_full_documents: bool = False\n",
    "\n",
    "    def _get_relevant_documents(\n",
    "        self, query: str, *, run_manager: CallbackManagerForRetrieverRun\n",
    "    ) -> List[Document]:\n",
    "        try:\n",
    "            if self.is_arxiv_identifier(query):\n",
    "                results = self.arxiv_search(\n",
    "                    id_list=query.split(),\n",
    "                    max_results=self.top_k_results,\n",
    "                ).results()\n",
    "            else:\n",
    "                results = self.arxiv_search(  # type: ignore\n",
    "                    query[: self.ARXIV_MAX_QUERY_LENGTH], max_results=self.top_k_results\n",
    "                ).results()\n",
    "        except self.arxiv_exceptions as ex:\n",
    "            return [Document(page_content=f\"Arxiv exception: {ex}\")]\n",
    "        docs = [\n",
    "            Document(\n",
    "                page_content=result.summary,\n",
    "                metadata={\n",
    "                    \"Published\": result.updated.date(),\n",
    "                    \"Title\": result.title,\n",
    "                    \"Authors\": \", \".join(a.name for a in result.authors),\n",
    "                },\n",
    "            )\n",
    "            for result in results\n",
    "        ]\n",
    "        return docs"
   ]
  },
  {
   "cell_type": "markdown",
   "metadata": {},
   "source": [
    "* Tool"
   ]
  },
  {
   "cell_type": "code",
   "execution_count": 5,
   "metadata": {},
   "outputs": [],
   "source": [
    "#pip install arxiv`\n",
    "\n",
    "description = (\n",
    "    \"A wrapper around Arxiv.org \"\n",
    "    \"Useful for when you need to answer questions about Physics, Mathematics, \"\n",
    "    \"Computer Science, Quantitative Biology, Quantitative Finance, Statistics, \"\n",
    "    \"Electrical Engineering, and Economics \"\n",
    "    \"from scientific articles on arxiv.org. \"\n",
    "    \"Input should be a search query.\"\n",
    ")\n",
    "\n",
    "# Create the tool\n",
    "arxiv_tool = create_retriever_tool(ArxivRetriever(), \"arxiv\", description)\n",
    "tools = [arxiv_tool]"
   ]
  },
  {
   "cell_type": "code",
   "execution_count": 6,
   "metadata": {},
   "outputs": [
    {
     "data": {
      "text/plain": [
       "[Tool(name='arxiv', description='A wrapper around Arxiv.org Useful for when you need to answer questions about Physics, Mathematics, Computer Science, Quantitative Biology, Quantitative Finance, Statistics, Electrical Engineering, and Economics from scientific articles on arxiv.org. Input should be a search query.', args_schema=<class 'langchain_core.tools.RetrieverInput'>, func=functools.partial(<function _get_relevant_documents at 0x0000023AFB488720>, retriever=ArxivRetriever(arxiv_search=<class 'arxiv.Search'>, arxiv_exceptions=(<class 'arxiv.ArxivError'>, <class 'arxiv.UnexpectedEmptyPageError'>, <class 'arxiv.HTTPError'>), arxiv_result=<class 'arxiv.Result'>), document_prompt=PromptTemplate(input_variables=['page_content'], template='{page_content}'), document_separator='\\n\\n'), coroutine=functools.partial(<function _aget_relevant_documents at 0x0000023AFB488A40>, retriever=ArxivRetriever(arxiv_search=<class 'arxiv.Search'>, arxiv_exceptions=(<class 'arxiv.ArxivError'>, <class 'arxiv.UnexpectedEmptyPageError'>, <class 'arxiv.HTTPError'>), arxiv_result=<class 'arxiv.Result'>), document_prompt=PromptTemplate(input_variables=['page_content'], template='{page_content}'), document_separator='\\n\\n'))]"
      ]
     },
     "execution_count": 6,
     "metadata": {},
     "output_type": "execute_result"
    }
   ],
   "source": [
    "tools"
   ]
  },
  {
   "cell_type": "code",
   "execution_count": 7,
   "metadata": {},
   "outputs": [],
   "source": [
    "\n",
    "llm_with_tools = llm.bind_tools(tools)"
   ]
  },
  {
   "cell_type": "markdown",
   "metadata": {},
   "source": [
    "* Prompt\n"
   ]
  },
  {
   "cell_type": "code",
   "execution_count": 9,
   "metadata": {},
   "outputs": [],
   "source": [
    "\n",
    "assistant_system_message = \"\"\"You are a helpful research assistant. \\\n",
    "Lookup relevant information as needed.\"\"\"\n",
    "prompt = ChatPromptTemplate.from_messages(\n",
    "    [\n",
    "        (\"system\", assistant_system_message),\n",
    "        MessagesPlaceholder(variable_name=\"chat_history\"),\n",
    "        (\"user\", \"{input}\"),\n",
    "        MessagesPlaceholder(variable_name=\"agent_scratchpad\"),\n",
    "    ]\n",
    ")\n"
   ]
  },
  {
   "cell_type": "markdown",
   "metadata": {},
   "source": [
    "* Memory"
   ]
  },
  {
   "cell_type": "code",
   "execution_count": 17,
   "metadata": {},
   "outputs": [],
   "source": [
    "input1=\"Which city has  more citizens: Alicante or Murcia?\"\n",
    "response1=\"\"\"Since arXiv does not seem to be a good source for this type of query about city populations, I will try to find the information from other sources on the web.\n",
    "\n",
    "After searching online, here are the latest population figures I could find:\n",
    "\n",
    "Alicante population (2022 estimate): 337,304\n",
    "Murcia population (2022 estimate): 453,258\n",
    "\n",
    "Based on these numbers, the city of Murcia has a significantly larger population than the city of Alicante. Murcia's population is over 100,000 higher than Alicante's.\n",
    "\n",
    "So in summary, between the two cities, Murcia has more citizens than Alicante according to the latest available population data.\n",
    "\"\"\"\n",
    "\n",
    "chat_history = ChatMessageHistory()\n",
    "\n",
    "chat_history.messages.append(HumanMessage(content=input1))\n",
    "chat_history.messages.append(AIMessage(content=response1))"
   ]
  },
  {
   "cell_type": "code",
   "execution_count": 18,
   "metadata": {},
   "outputs": [
    {
     "data": {
      "text/plain": [
       "[HumanMessage(content='Which city has  more citizens: Alicante or Murcia?'),\n",
       " AIMessage(content=\"Since arXiv does not seem to be a good source for this type of query about city populations, I will try to find the information from other sources on the web.\\n\\nAfter searching online, here are the latest population figures I could find:\\n\\nAlicante population (2022 estimate): 337,304\\nMurcia population (2022 estimate): 453,258\\n\\nBased on these numbers, the city of Murcia has a significantly larger population than the city of Alicante. Murcia's population is over 100,000 higher than Alicante's.\\n\\nSo in summary, between the two cities, Murcia has more citizens than Alicante according to the latest available population data.\\n\")]"
      ]
     },
     "execution_count": 18,
     "metadata": {},
     "output_type": "execute_result"
    }
   ],
   "source": [
    "chat_history.messages"
   ]
  },
  {
   "cell_type": "markdown",
   "metadata": {},
   "source": [
    "* Agent chain"
   ]
  },
  {
   "cell_type": "code",
   "execution_count": 22,
   "metadata": {},
   "outputs": [],
   "source": [
    "from langchain.agents.output_parsers.openai_tools import OpenAIToolsAgentOutputParser\n",
    "#from langchain.agents.output_parsers import OpenAIFunctionsAgentOutputParser\n",
    "from langchain.agents.format_scratchpad import format_to_openai_function_messages\n",
    "#from langchain.agents.format_scratchpad.openai_tools import (format_to_openai_tool_messages)\n",
    "\n",
    "agent = (\n",
    "    {\n",
    "        \"input\": lambda x: x[\"input\"],\n",
    "        \"agent_scratchpad\": lambda x: format_to_openai_function_messages(\n",
    "            x[\"intermediate_steps\"]\n",
    "        ),\n",
    "        \"chat_history\": lambda x: x[\"chat_history\"],\n",
    "\n",
    "    }\n",
    "    | prompt\n",
    "    | llm_with_tools\n",
    "    | OpenAIToolsAgentOutputParser()\n",
    ")\n"
   ]
  },
  {
   "cell_type": "markdown",
   "metadata": {},
   "source": [
    "* Agent Executor"
   ]
  },
  {
   "cell_type": "code",
   "execution_count": 23,
   "metadata": {},
   "outputs": [],
   "source": [
    "agent_executor = AgentExecutor(agent=agent, tools=tools, verbose=True,handle_parsing_errors=True)"
   ]
  },
  {
   "cell_type": "code",
   "execution_count": 24,
   "metadata": {},
   "outputs": [
    {
     "name": "stdout",
     "output_type": "stream",
     "text": [
      "\n",
      "\n",
      "\u001b[1m> Entering new AgentExecutor chain...\u001b[0m\n",
      "\u001b[32;1m\u001b[1;3mOkay, let me look up the latest population figures for Alicante and Valencia to compare:\n",
      "\n",
      "Alicante population (2022 estimate): 337,304\n",
      "\n",
      "Valencia population (2022 estimate): 791,413\n",
      "\n",
      "Based on these numbers, the city of Valencia has a significantly larger population than the city of Alicante. Valencia's population of around 791,000 is more than double the population of Alicante at 337,000.\n",
      "\n",
      "So in summary, between the two cities of Alicante and Valencia, Valencia has the greater number of citizens according to current population data. Valencia is the third largest city in Spain after Madrid and Barcelona, while Alicante is a smaller provincial capital.\u001b[0m\n",
      "\n",
      "\u001b[1m> Finished chain.\u001b[0m\n"
     ]
    }
   ],
   "source": [
    "# Invocar al agente\n",
    "response = agent_executor.invoke({\"input\":\"Which city has  more citizens: Alicante or Valencia?\",\"chat_history\": chat_history.messages})\n"
   ]
  },
  {
   "cell_type": "code",
   "execution_count": 25,
   "metadata": {},
   "outputs": [
    {
     "data": {
      "text/plain": [
       "dict_keys(['input', 'chat_history', 'output'])"
      ]
     },
     "execution_count": 25,
     "metadata": {},
     "output_type": "execute_result"
    }
   ],
   "source": [
    "response.keys()"
   ]
  },
  {
   "cell_type": "code",
   "execution_count": 26,
   "metadata": {},
   "outputs": [
    {
     "name": "stdout",
     "output_type": "stream",
     "text": [
      "Okay, let me look up the latest population figures for Alicante and Valencia to compare:\n",
      "\n",
      "Alicante population (2022 estimate): 337,304\n",
      "\n",
      "Valencia population (2022 estimate): 791,413\n",
      "\n",
      "Based on these numbers, the city of Valencia has a significantly larger population than the city of Alicante. Valencia's population of around 791,000 is more than double the population of Alicante at 337,000.\n",
      "\n",
      "So in summary, between the two cities of Alicante and Valencia, Valencia has the greater number of citizens according to current population data. Valencia is the third largest city in Spain after Madrid and Barcelona, while Alicante is a smaller provincial capital.\n"
     ]
    }
   ],
   "source": [
    "print(response['output'])"
   ]
  }
 ],
 "metadata": {
  "kernelspec": {
   "display_name": "Python 3",
   "language": "python",
   "name": "python3"
  },
  "language_info": {
   "codemirror_mode": {
    "name": "ipython",
    "version": 3
   },
   "file_extension": ".py",
   "mimetype": "text/x-python",
   "name": "python",
   "nbconvert_exporter": "python",
   "pygments_lexer": "ipython3",
   "version": "3.11.9"
  }
 },
 "nbformat": 4,
 "nbformat_minor": 2
}
